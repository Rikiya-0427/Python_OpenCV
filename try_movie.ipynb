{
 "cells": [
  {
   "cell_type": "code",
   "execution_count": null,
   "metadata": {},
   "outputs": [],
   "source": [
    "import cv2\n",
    "\n",
    "data = cv2.VideoCapture('./sample.mp4')\n",
    "type(data)\n",
    "data.isOpened()\n",
    "\n",
    "while True:\n",
    "    ret, frame = data.read()\n",
    "    if ret:\n",
    "        cv2.imshow('sample data', frame)\n",
    "        cv2.waitKey(1)\n",
    "    else:\n",
    "        data.set(cv2.CAP_PROP_POS_FRAMES, 0)\n",
    "        cv2.destroyWindow('sample data')\n"
   ]
  }
 ],
 "metadata": {
  "language_info": {
   "name": "python"
  },
  "orig_nbformat": 4
 },
 "nbformat": 4,
 "nbformat_minor": 2
}
