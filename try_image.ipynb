{
 "cells": [
  {
   "cell_type": "code",
   "execution_count": 8,
   "metadata": {},
   "outputs": [],
   "source": [
    "import numpy as np\n",
    "import cv2\n",
    "\n",
    "img = cv2.imread('sample.jpg')\n",
    "\n",
    "img\n",
    "type(img)\n",
    "img.shape\n",
    "\n",
    "# cv2.imshow('test1', img)\n",
    "# cv2.waitKey(0) & 0xFF\n",
    "# cv2.destroyAllWindows()\n",
    "\n",
    "# cv2.imwrite('test_another.jpg', img)\n",
    "\n",
    "im_gray = cv2.cvtColor(img, cv2.COLOR_BGR2GRAY)\n",
    "\n",
    "im_gray.shape\n",
    "im_gray.dtype\n",
    "\n",
    "cv2.imshow('test2', im_gray)\n",
    "cv2.waitKey(0) & 0xFF\n",
    "cv2.destroyAllWindows()\n",
    "\n",
    "cv2.imwrite('gray.jpg', im_gray)"
   ]
  },
  {
   "cell_type": "code",
   "execution_count": 13,
   "metadata": {},
   "outputs": [
    {
     "data": {
      "text/plain": [
       "[10, 2.5]"
      ]
     },
     "execution_count": 13,
     "metadata": {},
     "output_type": "execute_result"
    }
   ],
   "source": [
    "import numpy as np\n",
    "\n",
    "def mathpy(x):\n",
    "    y = list(x)\n",
    "    sum = np.sum(y)\n",
    "    average = np.mean(y)\n",
    "    z = (sum, average)\n",
    "\n",
    "    return z\n",
    "\n",
    "x = (1, 2, 3, 4)\n",
    "mathpy(x)"
   ]
  }
 ],
 "metadata": {
  "kernelspec": {
   "display_name": "venv",
   "language": "python",
   "name": "python3"
  },
  "language_info": {
   "codemirror_mode": {
    "name": "ipython",
    "version": 3
   },
   "file_extension": ".py",
   "mimetype": "text/x-python",
   "name": "python",
   "nbconvert_exporter": "python",
   "pygments_lexer": "ipython3",
   "version": "3.10.6"
  },
  "orig_nbformat": 4
 },
 "nbformat": 4,
 "nbformat_minor": 2
}
